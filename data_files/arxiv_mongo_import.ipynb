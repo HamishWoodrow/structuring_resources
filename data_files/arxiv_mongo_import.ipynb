{
 "cells": [
  {
   "cell_type": "markdown",
   "metadata": {},
   "source": [
    "## Arxiv Mongo Import"
   ]
  },
  {
   "cell_type": "markdown",
   "metadata": {},
   "source": [
    "This function takes a set of CERMXML files created by CERM and converts them into json files before adding them to the MongoDB.  A parse status is added to each document in order to define what was extracted from the pdf."
   ]
  },
  {
   "cell_type": "code",
   "execution_count": 1,
   "metadata": {},
   "outputs": [],
   "source": [
    "import json\n",
    "import xmltodict\n",
    "import os\n",
    "from pymongo import MongoClient\n",
    "from tqdm import tqdm"
   ]
  },
  {
   "cell_type": "code",
   "execution_count": 14,
   "metadata": {},
   "outputs": [
    {
     "name": "stderr",
     "output_type": "stream",
     "text": [
      "  1%|          | 11/1922 [00:00<00:17, 109.49it/s]"
     ]
    },
    {
     "name": "stdout",
     "output_type": "stream",
     "text": [
      "# Now completing folder:IR\n"
     ]
    },
    {
     "name": "stderr",
     "output_type": "stream",
     "text": [
      "100%|██████████| 1922/1922 [00:16<00:00, 115.72it/s]\n",
      "  1%|          | 7/1242 [00:00<00:19, 62.08it/s]"
     ]
    },
    {
     "name": "stdout",
     "output_type": "stream",
     "text": [
      "# Now completing folder:NA\n"
     ]
    },
    {
     "name": "stderr",
     "output_type": "stream",
     "text": [
      "100%|██████████| 1242/1242 [00:12<00:00, 99.78it/s]\n",
      "  0%|          | 12/19457 [00:00<02:45, 117.53it/s]"
     ]
    },
    {
     "name": "stdout",
     "output_type": "stream",
     "text": [
      "# Now completing folder:IT\n"
     ]
    },
    {
     "name": "stderr",
     "output_type": "stream",
     "text": [
      "100%|██████████| 19457/19457 [03:26<00:00, 94.26it/s]\n",
      "  1%|          | 11/889 [00:00<00:08, 105.08it/s]"
     ]
    },
    {
     "name": "stdout",
     "output_type": "stream",
     "text": [
      "# Now completing folder:SC\n"
     ]
    },
    {
     "name": "stderr",
     "output_type": "stream",
     "text": [
      "100%|██████████| 889/889 [00:08<00:00, 102.17it/s]\n",
      "  1%|          | 12/1382 [00:00<00:11, 115.61it/s]"
     ]
    },
    {
     "name": "stdout",
     "output_type": "stream",
     "text": [
      "# Now completing folder:FL\n"
     ]
    },
    {
     "name": "stderr",
     "output_type": "stream",
     "text": [
      "100%|██████████| 1382/1382 [00:13<00:00, 106.13it/s]\n",
      "  0%|          | 9/9089 [00:00<02:06, 71.77it/s]"
     ]
    },
    {
     "name": "stdout",
     "output_type": "stream",
     "text": [
      "# Now completing folder:CV\n"
     ]
    },
    {
     "name": "stderr",
     "output_type": "stream",
     "text": [
      "100%|██████████| 9089/9089 [01:44<00:00, 86.64it/s]\n",
      "  0%|          | 11/8813 [00:00<01:20, 109.57it/s]"
     ]
    },
    {
     "name": "stdout",
     "output_type": "stream",
     "text": [
      "# Now completing folder:LG\n"
     ]
    },
    {
     "name": "stderr",
     "output_type": "stream",
     "text": [
      "100%|██████████| 8813/8813 [01:30<00:00, 97.35it/s]\n",
      "  0%|          | 11/3087 [00:00<00:28, 107.80it/s]"
     ]
    },
    {
     "name": "stdout",
     "output_type": "stream",
     "text": [
      "# Now completing folder:SE\n"
     ]
    },
    {
     "name": "stderr",
     "output_type": "stream",
     "text": [
      "100%|██████████| 3087/3087 [00:25<00:00, 121.63it/s]\n",
      "  0%|          | 10/3969 [00:00<00:40, 98.35it/s]"
     ]
    },
    {
     "name": "stdout",
     "output_type": "stream",
     "text": [
      "# Now completing folder:SY\n"
     ]
    },
    {
     "name": "stderr",
     "output_type": "stream",
     "text": [
      "100%|██████████| 3969/3969 [00:43<00:00, 92.28it/s]\n",
      "  1%|          | 6/506 [00:00<00:08, 59.44it/s]"
     ]
    },
    {
     "name": "stdout",
     "output_type": "stream",
     "text": [
      "# Now completing folder:GR\n"
     ]
    },
    {
     "name": "stderr",
     "output_type": "stream",
     "text": [
      "100%|██████████| 506/506 [00:04<00:00, 105.96it/s]\n",
      "  0%|          | 11/2276 [00:00<00:23, 98.18it/s]"
     ]
    },
    {
     "name": "stdout",
     "output_type": "stream",
     "text": [
      "# Now completing folder:CG\n"
     ]
    },
    {
     "name": "stderr",
     "output_type": "stream",
     "text": [
      "100%|██████████| 2276/2276 [00:20<00:00, 110.33it/s]\n",
      "  1%|▏         | 9/708 [00:00<00:08, 85.44it/s]"
     ]
    },
    {
     "name": "stdout",
     "output_type": "stream",
     "text": [
      "# Now completing folder:ET\n"
     ]
    },
    {
     "name": "stderr",
     "output_type": "stream",
     "text": [
      "100%|██████████| 708/708 [00:07<00:00, 96.61it/s]\n",
      "  2%|▏         | 11/712 [00:00<00:06, 103.43it/s]"
     ]
    },
    {
     "name": "stdout",
     "output_type": "stream",
     "text": [
      "# Now completing folder:MA\n"
     ]
    },
    {
     "name": "stderr",
     "output_type": "stream",
     "text": [
      "100%|██████████| 712/712 [00:07<00:00, 100.57it/s]\n",
      "  0%|          | 11/2353 [00:00<00:22, 102.02it/s]"
     ]
    },
    {
     "name": "stdout",
     "output_type": "stream",
     "text": [
      "# Now completing folder:DB\n"
     ]
    },
    {
     "name": "stderr",
     "output_type": "stream",
     "text": [
      "100%|██████████| 2353/2353 [00:25<00:00, 91.22it/s]\n",
      "  0%|          | 12/2975 [00:00<00:25, 116.79it/s]"
     ]
    },
    {
     "name": "stdout",
     "output_type": "stream",
     "text": [
      "# Now completing folder:GT\n"
     ]
    },
    {
     "name": "stderr",
     "output_type": "stream",
     "text": [
      "100%|██████████| 2975/2975 [00:31<00:00, 95.77it/s]\n",
      "  1%|          | 10/1777 [00:00<00:20, 86.58it/s]"
     ]
    },
    {
     "name": "stdout",
     "output_type": "stream",
     "text": [
      "# Now completing folder:PL\n"
     ]
    },
    {
     "name": "stderr",
     "output_type": "stream",
     "text": [
      "100%|██████████| 1777/1777 [00:18<00:00, 96.61it/s]\n",
      "  9%|▉         | 7/74 [00:00<00:00, 69.07it/s]"
     ]
    },
    {
     "name": "stdout",
     "output_type": "stream",
     "text": [
      "# Now completing folder:GL\n"
     ]
    },
    {
     "name": "stderr",
     "output_type": "stream",
     "text": [
      "100%|██████████| 74/74 [00:00<00:00, 114.93it/s]\n",
      "  0%|          | 0/1527 [00:00<?, ?it/s]"
     ]
    },
    {
     "name": "stdout",
     "output_type": "stream",
     "text": [
      "# Now completing folder:OH\n"
     ]
    },
    {
     "name": "stderr",
     "output_type": "stream",
     "text": [
      "100%|██████████| 1527/1527 [00:10<00:00, 148.36it/s]\n",
      "  1%|          | 13/1366 [00:00<00:10, 129.32it/s]"
     ]
    },
    {
     "name": "stdout",
     "output_type": "stream",
     "text": [
      "# Now completing folder:HC\n"
     ]
    },
    {
     "name": "stderr",
     "output_type": "stream",
     "text": [
      "100%|██████████| 1366/1366 [00:11<00:00, 117.77it/s]\n",
      "  0%|          | 11/4040 [00:00<00:37, 108.59it/s]"
     ]
    },
    {
     "name": "stdout",
     "output_type": "stream",
     "text": [
      "# Now completing folder:DM\n"
     ]
    },
    {
     "name": "stderr",
     "output_type": "stream",
     "text": [
      "100%|██████████| 4040/4040 [00:34<00:00, 117.27it/s]\n",
      "  2%|▏         | 10/592 [00:00<00:05, 97.81it/s]"
     ]
    },
    {
     "name": "stdout",
     "output_type": "stream",
     "text": [
      "# Now completing folder:MS\n"
     ]
    },
    {
     "name": "stderr",
     "output_type": "stream",
     "text": [
      "100%|██████████| 592/592 [00:05<00:00, 111.81it/s]\n",
      "  3%|▎         | 16/582 [00:00<00:03, 157.53it/s]"
     ]
    },
    {
     "name": "stdout",
     "output_type": "stream",
     "text": [
      "# Now completing folder:SD\n"
     ]
    },
    {
     "name": "stderr",
     "output_type": "stream",
     "text": [
      "100%|██████████| 582/582 [00:05<00:00, 110.85it/s]\n",
      "  5%|▍         | 10/202 [00:00<00:01, 98.18it/s]"
     ]
    },
    {
     "name": "stdout",
     "output_type": "stream",
     "text": [
      "# Now completing folder:OS\n"
     ]
    },
    {
     "name": "stderr",
     "output_type": "stream",
     "text": [
      "100%|██████████| 202/202 [00:01<00:00, 115.57it/s]\n",
      "  1%|          | 12/2072 [00:00<00:17, 114.45it/s]"
     ]
    },
    {
     "name": "stdout",
     "output_type": "stream",
     "text": [
      "# Now completing folder:NE\n"
     ]
    },
    {
     "name": "stderr",
     "output_type": "stream",
     "text": [
      "100%|██████████| 2072/2072 [00:19<00:00, 108.33it/s]\n",
      "  0%|          | 16/5094 [00:00<00:34, 145.58it/s]"
     ]
    },
    {
     "name": "stdout",
     "output_type": "stream",
     "text": [
      "# Now completing folder:CL\n"
     ]
    },
    {
     "name": "stderr",
     "output_type": "stream",
     "text": [
      "100%|██████████| 5094/5094 [00:41<00:00, 122.33it/s]\n",
      "  1%|          | 11/1682 [00:00<00:15, 108.16it/s]"
     ]
    },
    {
     "name": "stdout",
     "output_type": "stream",
     "text": [
      "# Now completing folder:CE\n"
     ]
    },
    {
     "name": "stderr",
     "output_type": "stream",
     "text": [
      "100%|██████████| 1682/1682 [00:16<00:00, 104.36it/s]\n",
      "  0%|          | 12/5685 [00:00<00:50, 112.04it/s]"
     ]
    },
    {
     "name": "stdout",
     "output_type": "stream",
     "text": [
      "# Now completing folder:AI\n"
     ]
    },
    {
     "name": "stderr",
     "output_type": "stream",
     "text": [
      "100%|██████████| 5685/5685 [00:48<00:00, 117.55it/s]\n",
      "  2%|▏         | 11/463 [00:00<00:04, 99.44it/s]"
     ]
    },
    {
     "name": "stdout",
     "output_type": "stream",
     "text": [
      "# Now completing folder:PF\n"
     ]
    },
    {
     "name": "stderr",
     "output_type": "stream",
     "text": [
      "100%|██████████| 463/463 [00:04<00:00, 109.37it/s]\n",
      "  1%|▏         | 9/659 [00:00<00:08, 78.71it/s]"
     ]
    },
    {
     "name": "stdout",
     "output_type": "stream",
     "text": [
      "# Now completing folder:AR\n"
     ]
    },
    {
     "name": "stderr",
     "output_type": "stream",
     "text": [
      "100%|██████████| 659/659 [00:05<00:00, 130.21it/s]\n",
      "  0%|          | 12/5016 [00:00<00:43, 115.91it/s]"
     ]
    },
    {
     "name": "stdout",
     "output_type": "stream",
     "text": [
      "# Now completing folder:LO\n"
     ]
    },
    {
     "name": "stderr",
     "output_type": "stream",
     "text": [
      "100%|██████████| 5016/5016 [00:53<00:00, 93.34it/s]\n",
      "  0%|          | 12/6746 [00:00<00:56, 118.63it/s]"
     ]
    },
    {
     "name": "stdout",
     "output_type": "stream",
     "text": [
      "# Now completing folder:DS\n"
     ]
    },
    {
     "name": "stderr",
     "output_type": "stream",
     "text": [
      "100%|██████████| 6746/6746 [01:04<00:00, 104.00it/s]\n",
      "  2%|▏         | 11/720 [00:00<00:06, 108.26it/s]"
     ]
    },
    {
     "name": "stdout",
     "output_type": "stream",
     "text": [
      "# Now completing folder:MM\n"
     ]
    },
    {
     "name": "stderr",
     "output_type": "stream",
     "text": [
      "100%|██████████| 720/720 [00:06<00:00, 118.87it/s]\n",
      "  0%|          | 12/4328 [00:00<00:39, 109.58it/s]"
     ]
    },
    {
     "name": "stdout",
     "output_type": "stream",
     "text": [
      "# Now completing folder:DC\n"
     ]
    },
    {
     "name": "stderr",
     "output_type": "stream",
     "text": [
      "100%|██████████| 4328/4328 [00:41<00:00, 105.06it/s]\n",
      "  0%|          | 10/3659 [00:00<00:37, 98.15it/s]"
     ]
    },
    {
     "name": "stdout",
     "output_type": "stream",
     "text": [
      "# Now completing folder:CC\n"
     ]
    },
    {
     "name": "stderr",
     "output_type": "stream",
     "text": [
      "100%|██████████| 3659/3659 [00:33<00:00, 109.25it/s]\n",
      "  0%|          | 11/4983 [00:00<00:45, 109.25it/s]"
     ]
    },
    {
     "name": "stdout",
     "output_type": "stream",
     "text": [
      "# Now completing folder:CR\n"
     ]
    },
    {
     "name": "stderr",
     "output_type": "stream",
     "text": [
      "100%|██████████| 4983/4983 [00:44<00:00, 111.40it/s]\n",
      "  0%|          | 11/2445 [00:00<00:22, 106.77it/s]"
     ]
    },
    {
     "name": "stdout",
     "output_type": "stream",
     "text": [
      "# Now completing folder:CY\n"
     ]
    },
    {
     "name": "stderr",
     "output_type": "stream",
     "text": [
      "100%|██████████| 2445/2445 [00:19<00:00, 123.44it/s]\n",
      "  1%|          | 11/1898 [00:00<00:18, 104.59it/s]"
     ]
    },
    {
     "name": "stdout",
     "output_type": "stream",
     "text": [
      "# Now completing folder:RO\n"
     ]
    },
    {
     "name": "stderr",
     "output_type": "stream",
     "text": [
      "100%|██████████| 1898/1898 [00:18<00:00, 103.86it/s]\n",
      "  1%|          | 9/1610 [00:00<00:19, 80.99it/s]"
     ]
    },
    {
     "name": "stdout",
     "output_type": "stream",
     "text": [
      "# Now completing folder:DL\n"
     ]
    },
    {
     "name": "stderr",
     "output_type": "stream",
     "text": [
      "100%|██████████| 1610/1610 [00:12<00:00, 132.71it/s]\n",
      "  0%|          | 10/5275 [00:00<00:54, 96.56it/s]"
     ]
    },
    {
     "name": "stdout",
     "output_type": "stream",
     "text": [
      "# Now completing folder:SI\n"
     ]
    },
    {
     "name": "stderr",
     "output_type": "stream",
     "text": [
      "100%|██████████| 5275/5275 [00:56<00:00, 92.74it/s]\n",
      "  0%|          | 10/6543 [00:00<01:14, 87.12it/s]"
     ]
    },
    {
     "name": "stdout",
     "output_type": "stream",
     "text": [
      "# Now completing folder:NI\n"
     ]
    },
    {
     "name": "stderr",
     "output_type": "stream",
     "text": [
      "100%|██████████| 6543/6543 [01:00<00:00, 108.47it/s]\n"
     ]
    }
   ],
   "source": [
    "db = MongoClient().ds_documents\n",
    "col = db.papers\n",
    "\n",
    "prefix = 'arxiv/'\n",
    "folders = os.listdir(prefix)\n",
    "folders = [x for x in folders if len(x) ==2]\n",
    "for folder in folders:\n",
    "    print('# Now completing folder:' + folder)\n",
    "    files = os.listdir(prefix+folder)\n",
    "    files = [x for x in files if x[-7:] == 'cermxml']\n",
    "    for af in tqdm(files):\n",
    "        doc = {}\n",
    "        parse_keys = set()\n",
    "        fi = prefix + folder + '/' + af\n",
    "        with open(fi) as fp:\n",
    "            entry = fp.read()\n",
    "        data = xmltodict.parse(entry)\n",
    "        doc['source'] = 'arxiv'\n",
    "        doc['category'] = folder\n",
    "        doc['doc_name'] = af\n",
    "        doc['fpath'] = fi\n",
    "        doc['original'] = data\n",
    "        doc['parse_status'] = 'no_parse'\n",
    "        try:\n",
    "            doc['title'] = data['article']['front']['article-meta']['title-group']['article-title']\n",
    "            doc['authors'] = data['article']['front']['article-meta']['contrib-group']['contrib']\n",
    "            doc['abstract'] = data['article']['front']['article-meta']['abstract']\n",
    "            doc['references'] = data['article']['back']['ref-list']['ref']\n",
    "            doc['body'] = data['article']['body']['sec']\n",
    "            doc['parse_status'] = 'full_parse'\n",
    "            doc['parse_keys'] = str({'title','authors','abstract','references','body'})\n",
    "        except:\n",
    "            if data['article']['front'].get('article-meta',{}):\n",
    "                if data['article']['front']['article-meta'].get('abstract'):\n",
    "                    doc['abstract'] = data['article']['front']['article-meta']['abstract']\n",
    "                    parse_keys.add('abstract')\n",
    "            if data['article']['back'].get('ref-list',{}):\n",
    "                doc['references'] = data['article']['back']['ref-list']['ref']\n",
    "                parse_keys.add('references')\n",
    "            if  data['article']['front'].get('article-meta',{}):\n",
    "                if data['article']['front']['article-meta'].get('contrib-group'):\n",
    "                    doc['authors'] = data['article']['front']['article-meta']['contrib-group']\n",
    "                    parse_keys.add('authors')\n",
    "            if data['article']['front'].get('article-meta',{}):\n",
    "                if data['article']['front']['article-meta'].get('title-group',{}):\n",
    "                    if data['article']['front']['article-meta']['title-group'].get('article-title'):\n",
    "                        doc['title'] = data['article']['front']['article-meta']['title-group']['article-title']\n",
    "                        parse_keys.add('title')\n",
    "            if data['article'].get('body',{}):\n",
    "                doc['body'] = data['article']['body']['sec']\n",
    "                parse_keys.add('body')\n",
    "            else:\n",
    "                doc['parse_status'] = 'no_body'\n",
    "            if len({'abstract', 'body', 'references'} - parse_keys) == 0:\n",
    "                doc['parse_status'] = 'partial_parse'\n",
    "            doc['parse_keys'] = str(parse_keys)\n",
    "        result = col.insert_one(doc)"
   ]
  },
  {
   "cell_type": "code",
   "execution_count": 15,
   "metadata": {},
   "outputs": [
    {
     "data": {
      "text/plain": [
       "128418"
      ]
     },
     "execution_count": 15,
     "metadata": {},
     "output_type": "execute_result"
    }
   ],
   "source": [
    "col.count()"
   ]
  },
  {
   "cell_type": "code",
   "execution_count": 19,
   "metadata": {},
   "outputs": [],
   "source": [
    "t = col.find_one()"
   ]
  },
  {
   "cell_type": "code",
   "execution_count": null,
   "metadata": {},
   "outputs": [],
   "source": []
  }
 ],
 "metadata": {
  "kernelspec": {
   "display_name": "python_struct",
   "language": "python",
   "name": "structuring_ds"
  },
  "language_info": {
   "codemirror_mode": {
    "name": "ipython",
    "version": 3
   },
   "file_extension": ".py",
   "mimetype": "text/x-python",
   "name": "python",
   "nbconvert_exporter": "python",
   "pygments_lexer": "ipython3",
   "version": "3.5.2"
  }
 },
 "nbformat": 4,
 "nbformat_minor": 2
}
