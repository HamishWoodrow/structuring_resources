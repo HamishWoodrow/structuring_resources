{
 "cells": [
  {
   "cell_type": "markdown",
   "metadata": {},
   "source": [
    "# Document Processing"
   ]
  },
  {
   "cell_type": "markdown",
   "metadata": {},
   "source": [
    "This folder of scripts deals with taking the set of 127 000 papers delivered from ARXIV and extracting:\n",
    "- A document dictionary.\n",
    "- Creating a TFIDF for the concept vectors of the documents.\n",
    "- Using SVD methods to reduce the concept vector dimensionality and then to use a distance metric for evalutating documents similar to one another."
   ]
  }
 ],
 "metadata": {
  "kernelspec": {
   "display_name": "Python 3",
   "language": "python",
   "name": "python3"
  },
  "language_info": {
   "codemirror_mode": {
    "name": "ipython",
    "version": 2
   },
   "file_extension": ".py",
   "mimetype": "text/x-python",
   "name": "python",
   "nbconvert_exporter": "python",
   "pygments_lexer": "ipython2",
   "version": "2.7.12"
  }
 },
 "nbformat": 4,
 "nbformat_minor": 2
}
